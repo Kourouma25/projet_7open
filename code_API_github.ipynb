{
  "nbformat": 4,
  "nbformat_minor": 0,
  "metadata": {
    "colab": {
      "provenance": []
    },
    "kernelspec": {
      "name": "python3",
      "display_name": "Python 3"
    },
    "language_info": {
      "name": "python"
    }
  },
  "cells": [
    {
      "cell_type": "markdown",
      "source": [
        "# **Code API pour Github**"
      ],
      "metadata": {
        "id": "cjNJn_MCncrn"
      }
    },
    {
      "cell_type": "code",
      "source": [
        "from flask import Flask, jsonify, request\n",
        "import joblib\n",
        "import pandas as pd"
      ],
      "metadata": {
        "id": "fIa1Yr1HnETG"
      },
      "execution_count": null,
      "outputs": []
    },
    {
      "cell_type": "code",
      "source": [
        "\n",
        "\n",
        "app = Flask(__name__)\n",
        "\n",
        "# Charger le modèle\n",
        "model_enregistre = joblib.load('lgbm_model.pkl')\n",
        "\n",
        "# Route de base\n",
        "@app.route(\"/\", methods=[\"GET\"])\n",
        "def accueil():\n",
        "    return jsonify({\"message\": \"Bienvenue sur l'API de prédiction bancaire\"})\n",
        "\n",
        "# Route de prédiction\n",
        "@app.route(\"/predire\", methods=[\"POST\"])\n",
        "def predire():\n",
        "    \"\"\"Prédire avec les données envoyées dans le POST.\"\"\"\n",
        "    if not request.json:\n",
        "        return jsonify({\"erreur\": \"Aucun JSON fourni\"}), 400\n",
        "\n",
        "    try:\n",
        "        # Récupérer les données envoyées dans la requête\n",
        "        donnees = request.json\n",
        "\n",
        "        # Convertir en DataFrame\n",
        "        donnees_df = pd.DataFrame([donnees])\n",
        "\n",
        "        # Prédiction avec le modèle\n",
        "        predictions = model_enregistre.predict(donnees_df)\n",
        "\n",
        "        # Retourner les résultats\n",
        "        resultats = donnees  # Données envoyées\n",
        "        resultats['prediction'] = int(predictions[0])  # Ajouter la prédiction\n",
        "\n",
        "        return jsonify({\"resultats\": resultats})\n",
        "\n",
        "    except Exception as e:\n",
        "        return jsonify({\"erreur\": str(e)}), 400\n",
        "\n",
        "\n",
        "# Lancer l'application\n",
        "if __name__ == \"__main__\":\n",
        "    app.run(debug=True, host=\"0.0.0.0\", port=5000)"
      ],
      "metadata": {
        "id": "sDBJA9SinG2O"
      },
      "execution_count": null,
      "outputs": []
    }
  ]
}